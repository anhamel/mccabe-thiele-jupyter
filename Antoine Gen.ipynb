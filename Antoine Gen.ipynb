{
 "cells": [
  {
   "cell_type": "code",
   "execution_count": 12,
   "metadata": {
    "ExecuteTime": {
     "end_time": "2019-10-29T17:31:11.329480Z",
     "start_time": "2019-10-29T17:31:11.313853Z"
    }
   },
   "outputs": [],
   "source": [
    "#Uncomment the next line and run if plotly and chart-studio modules are not installed\n",
    "#!pip install plotly chart-studio "
   ]
  },
  {
   "cell_type": "code",
   "execution_count": 13,
   "metadata": {
    "ExecuteTime": {
     "end_time": "2019-10-29T17:31:12.642070Z",
     "start_time": "2019-10-29T17:31:11.329480Z"
    }
   },
   "outputs": [],
   "source": [
    "#Imports all necessesary modules to run the model\n",
    "import numpy as np\n",
    "import plotly.graph_objs as go\n",
    "from ipywidgets import interact, interactive, fixed, interact_manual\n",
    "import ipywidgets as widgets\n",
    "from IPython.display import display\n",
    "import math\n",
    "import chart_studio.plotly as py\n",
    "import matplotlib.pyplot as plt\n",
    "import warnings\n",
    "import McCabeTools as mct"
   ]
  },
  {
   "cell_type": "code",
   "execution_count": 14,
   "metadata": {
    "ExecuteTime": {
     "end_time": "2019-10-29T17:31:12.657697Z",
     "start_time": "2019-10-29T17:31:12.642070Z"
    }
   },
   "outputs": [],
   "source": [
    "#Opens and reads the antoine coefficient data and passes it into useful variables\n",
    "#To switch between sets of species, choose which text file to pass below\n",
    "f = open(\"long_antoine_coef.txt\")\n",
    "#f = open(\"antoine_coef.txt\")\n",
    "(antoine_mtrx, antoine_dict,name,a_list,b_list,c_list,t1_list,t2_list,id_num) = mct.readprgm(f)"
   ]
  },
  {
   "cell_type": "code",
   "execution_count": 15,
   "metadata": {
    "ExecuteTime": {
     "end_time": "2019-10-29T17:31:13.282740Z",
     "start_time": "2019-10-29T17:31:12.657697Z"
    }
   },
   "outputs": [],
   "source": [
    "#Establishes the format of the charts in this notebook\n",
    "layout=go.Layout(title=\"Txy\")\n",
    "fig = go.FigureWidget(layout=layout)\n",
    "fig.layout.titlefont.size = 22\n",
    "fig.layout.titlefont.family = 'Rockwell'\n",
    "fig.layout.xaxis.title = 'xy'\n",
    "fig.layout.yaxis.title = 'T (°C)'\n",
    "fig.layout.plot_bgcolor = 'rgb(255,255,255)'\n",
    "fig.layout.xaxis.gridcolor = 'darkgrey'\n",
    "fig.layout.yaxis.gridcolor = 'darkgrey'"
   ]
  },
  {
   "cell_type": "code",
   "execution_count": 5,
   "metadata": {
    "ExecuteTime": {
     "end_time": "2019-10-29T17:31:13.329618Z",
     "start_time": "2019-10-29T17:31:13.282740Z"
    }
   },
   "outputs": [],
   "source": [
    "def txy(species1 = name[1] , species2 = name[2] ,p = 1):\n",
    "    tsat = list()\n",
    "    step=1000\n",
    "    with fig.batch_update():\n",
    "        #Clear traces from the plot\n",
    "        fig.data = []        \n",
    "        #Passes Antoine vapor coefficients for selected species\n",
    "        species1 = antoine_dict[species1]\n",
    "        species2 = antoine_dict[species2]\n",
    "        a1 = species1['a']\n",
    "        b1 = species1['b']\n",
    "        c1 = species1['c']\n",
    "        a2 = species2['a']\n",
    "        b2 = species2['b']\n",
    "        c2 = species2['c']\n",
    "        \n",
    "        #Calculates saturation temperature for given species at given pressure with Antoine equation\n",
    "        if id_num == 1:\n",
    "            tsat.append(b1/(a1 - math.log(p,10)) - c1)\n",
    "            tsat.append(b2/(a2 - math.log(p,10)) - c2)\n",
    "        else:\n",
    "            tsat.append(b1/(a1 - math.log(p * 750.062,10)) - c1)\n",
    "            tsat.append(b2/(a2 - math.log(p * 750.062,10)) - c2)            \n",
    "\n",
    "        t_space = np.linspace(tsat[0],tsat[1],step)\n",
    "    \n",
    "        index_max = tsat.index(max(tsat))\n",
    "        \n",
    "        y_list = list()\n",
    "        x_list = list()\n",
    "        \n",
    "        reverse_list = list()\n",
    "        for element in range(len(t_space)):\n",
    "            reverse_list.append(t_space[-element-1])\n",
    "            \n",
    "        #Calculates saturation pressures of given species at given pressure\n",
    "        for n in reverse_list:\n",
    "            if id_num == 1:\n",
    "                p1sat = 10**(a1- (b1/(c1+n)))\n",
    "                p2sat = 10**(a2- (b2/(c2+n)))\n",
    "            else:\n",
    "                p1sat = (10**(a1- (b1/(c1+n)))) / 750.062\n",
    "                p2sat = (10**(a2- (b2/(c2+n)))) / 750.062\n",
    "                \n",
    "            if index_max == 0:\n",
    "                x_element = float((p-p2sat)/(p1sat-p2sat))\n",
    "                y_element = float((x_element*p1sat)/(p))\n",
    "                \n",
    "            else:\n",
    "                x_element = float((p-p1sat)/(p2sat-p1sat))\n",
    "                y_element = float((x_element*p2sat)/(p))  \n",
    "                \n",
    "            if x_element == -0.0:\n",
    "                x_element = 0.0\n",
    "                \n",
    "            if y_element == -0.0:\n",
    "                y_element = 0.0\n",
    "                \n",
    "            x_list.append(x_element)\n",
    "            y_list.append(y_element)\n",
    "            \n",
    "        #Determines more and less volatile species in binary mixture\n",
    "        if index_max == 1:\n",
    "            volatile = species1['name']\n",
    "            less_volatile = species2['name']\n",
    "        else:\n",
    "            volatile = species2['name']\n",
    "            less_volatile = species1['name']\n",
    "            \n",
    "        #Creates title for graph\n",
    "        fig.layout.title = volatile + \" - \" + less_volatile + \",   P=\" + str(p) + \" bar\"\n",
    "        \n",
    "        #Adds x and y data to the graph\n",
    "        xa = fig.add_scatter(name=volatile, x=x_list, y=t_space)\n",
    "        ya = fig.add_scatter(name=less_volatile, y=t_space, x=y_list)\n",
    "        \n",
    "        #Packages x and y data into lists\n",
    "        vle = list()\n",
    "        reverse_x = list()\n",
    "        reverse_y = list()\n",
    "        for element in range(len(x_list)):\n",
    "            reverse_x.append(x_list[-element - 1])\n",
    "            reverse_y.append(y_list[-element -1])\n",
    "        vle.append(reverse_x)\n",
    "        vle.append(reverse_y)\n",
    "        \n",
    "    #Extracts x and y data from vle lists into x_op and y_op lists\n",
    "    x_op = vle[1]\n",
    "    y_op = vle[0]\n",
    "\n",
    "    return(fig,vle,volatile,less_volatile,reverse_x,reverse_y,x_op,y_op)\n",
    "\n",
    "#Runs thermo function txy() to generate a graph\n",
    "(final_graph,vle,volatile,less_volatile,reverse_x,reverse_y,x_op,y_op) = txy()"
   ]
  },
  {
   "cell_type": "code",
   "execution_count": 6,
   "metadata": {
    "ExecuteTime": {
     "end_time": "2019-10-29T17:31:13.407749Z",
     "start_time": "2019-10-29T17:31:13.329618Z"
    }
   },
   "outputs": [
    {
     "data": {
      "application/vnd.jupyter.widget-view+json": {
       "model_id": "1f9a9904a50a45a1b7e78ed44f78c790",
       "version_major": 2,
       "version_minor": 0
      },
      "text/plain": [
       "interactive(children=(Dropdown(description='species1', index=1, options=('1,1,1-trifluoroethane -3-27°C ', '1,…"
      ]
     },
     "metadata": {},
     "output_type": "display_data"
    },
    {
     "data": {
      "application/vnd.jupyter.widget-view+json": {
       "model_id": "b69164b81e4f442ebdd9c15974b5c71f",
       "version_major": 2,
       "version_minor": 0
      },
      "text/plain": [
       "FigureWidget({\n",
       "    'data': [{'name': '1,1,2-trichloroethane 29-155°C ',\n",
       "              'type': 'scatter',\n",
       "     …"
      ]
     },
     "metadata": {},
     "output_type": "display_data"
    }
   ],
   "source": [
    "#Displays dynamic graph of Txy thermo data\n",
    "z = interactive(txy, species1=antoine_dict.keys(),\n",
    "                species2=antoine_dict.keys(), \n",
    "                p=widgets.BoundedFloatText(value=1,min=0.01,max =100.0,step=0.00001))               \n",
    "display(z)\n",
    "display(final_graph)"
   ]
  },
  {
   "cell_type": "code",
   "execution_count": 7,
   "metadata": {
    "ExecuteTime": {
     "end_time": "2019-10-29T17:31:13.689018Z",
     "start_time": "2019-10-29T17:31:13.407749Z"
    }
   },
   "outputs": [],
   "source": [
    "#Establishes layout for McCabe-Theiele graph\n",
    "layout1=go.Layout()\n",
    "fig1 = go.FigureWidget(layout=layout1)\n",
    "fig1.layout.titlefont.size = 22\n",
    "fig1.layout.titlefont.family = 'Rockwell'\n",
    "fig1.layout.xaxis.title = 'x'\n",
    "fig1.layout.yaxis.title = 'y'\n",
    "fig1.layout.plot_bgcolor = 'rgb(255,255,255)'\n",
    "#Toggles Gridlines\n",
    "fig1.layout.xaxis.gridcolor = 'darkgrey'\n",
    "fig1.layout.yaxis.gridcolor = 'darkgrey'\n",
    "warnings.simplefilter(action='ignore', category=FutureWarning)\n",
    "warnings.simplefilter(action='ignore', category=np.RankWarning)\n",
    "tr_list = ['Off','On']\n",
    "\n",
    "def op_line(order,x,y): \n",
    "    #Performs a simple polynomial fit on the given x,y thermo data\n",
    "    z = np.polyfit(x,y,order)\n",
    "    f = np.poly1d(z)\n",
    "    return(f)\n",
    "\n",
    "def rootfinder(eqn,sc):\n",
    "    #Solves the polynomial trend line to calculate intercepts when creating step line\n",
    "    sc += 1\n",
    "    output = np.roots(eqn)\n",
    "    return(output,sc)\n",
    "\n",
    "def update(xb = 0.25, xd = 0.6, xf = 0.325, r = 9.5, q = 0.7,species1=name[1],species2=name[2],p=1,order=7,TotalReflux=\"Off\",R_min = \"Off\",Eff=1): \n",
    "    sanitycounter = 0\n",
    "    sc1 = 0\n",
    "    #Re-calculates thermo data any time species or pressure are modified\n",
    "    (final_graph,vle,volatile,less_volatile,reverse_x,reverse_y,x_op,y_op) = txy(species1,species2,p)\n",
    "    x_input = x_op\n",
    "    y_input = y_op\n",
    "\n",
    "    with fig1.batch_update():\n",
    "        #Re-calculates trend line any time the order or thermo data are modified\n",
    "        z = op_line(order,x_op,y_op)\n",
    "        \n",
    "        #Clear traces from the plot and creates title\n",
    "        fig1.data = []\n",
    "        step = 100\n",
    "\n",
    "        #Create the 45 line and add to chart\n",
    "        ff = fig1.add_scatter(name='45',x=[0,1],y=[0,1])\n",
    "\n",
    "        #Add the raw data to the chart\n",
    "        op = fig1.add_scatter(name='Raw Data',x=x_op,y=y_op)\n",
    "        \n",
    "        #Creates a series of points that lie on the trendline and then adds that series to the chart\n",
    "        trend_x = list()\n",
    "        trend_y = list()\n",
    "        x_gen = np.linspace(0,1,step)\n",
    "        for w in range(1,len(x_gen)):\n",
    "            x_number = x_gen[w]\n",
    "            trend_y.append(z(x_number))\n",
    "            trend_x.append(x_number)\n",
    "        trendlineseries = fig1.add_scatter(name= 'Trendline',x=trend_x,y=trend_y)\n",
    "        \n",
    "        #Converts poly1d equilibrium polynomial to useable text equation\n",
    "        coef_list = z.coef\n",
    "        order = z.o\n",
    "        trend_list = list()\n",
    "        trend_str = str()\n",
    "        for coef_number in range(order + 1):\n",
    "            if coef_number is (order):\n",
    "                trend_fraction_str = str(coef_list[coef_number])\n",
    "            else:\n",
    "                trend_fraction_str = str(coef_list[coef_number]) + \"x**\" + str(order - coef_number ) + \" + \"\n",
    "            trend_str += trend_fraction_str\n",
    "        \n",
    "        #Creates data for rectifying, stripping, and q lines (and their intersection)\n",
    "        rec_line_str = str()\n",
    "        r_slope = (r / (r + 1))\n",
    "        r_int = xd * (1 / (r + 1))\n",
    "\n",
    "        if (q ==1 )is True :\n",
    "            rec_q_int = xf\n",
    "        else:\n",
    "            m = q / (q-1)\n",
    "            q_int = xf / (q-1)\n",
    "            rec_q_int = (q_int + r_int) / (m - r_slope)\n",
    "        rec_line_y = (rec_q_int * r_slope) + r_int\n",
    "        \n",
    "        #Adds rectifyinig line to chart\n",
    "        rec_line = fig1.add_scatter(name = 'Rectifying',x=[xd, rec_q_int],y=[xd, rec_line_y])\n",
    "        \n",
    "        #Adds feed line (q) to chart\n",
    "        q_line = fig1.add_scatter(name = 'q',x=[xf, rec_q_int],y=[xf, rec_line_y])\n",
    "        \n",
    "        strip_slope = (xb - rec_line_y) / (xb - rec_q_int)\n",
    "        strip_int = xb - (strip_slope * xb)\n",
    "        \n",
    "        #Adds stripping line to chart\n",
    "        strip_line = fig1.add_scatter(name = \"Stripping\",x=[xb, rec_q_int],y=[xb, rec_line_y])\n",
    "        assert strip_slope > 1, \"Operating parameters out of range\"\n",
    "        assert rec_line_y < z(rec_q_int), \"Pinch point has been created, distillation will never complete\"\n",
    "               \n",
    "        #Sets up some variables for the step line\n",
    "        step_x_list = [xd]\n",
    "        step_y_list = [xd]\n",
    "        step_x_rmin_list = [xd]\n",
    "        step_y_rmin_list = [xd]\n",
    "        eq_value_y_rmin = xd\n",
    "        eq_value_x_rmin = xd\n",
    "        eq_value_y = xd\n",
    "        eq_value_x = xd\n",
    "        ff_value = xd\n",
    "        ff_value_rmin = xd\n",
    "        \n",
    "        #Creates line stepping down to xb\n",
    "        while eq_value_x > xb:\n",
    "            #Solves the root values of the polynomial curve at the 45 line y value\n",
    "            z_scaled = z - ff_value\n",
    "            (roots,sanitycounter) = rootfinder(z_scaled,sanitycounter)\n",
    "            \n",
    "            #Asserts that the polynomial can be solved\n",
    "            assert sanitycounter < 500, \"Error in solving polynomial, these two components may not be suitable for this model or may require a more accurate trendline\"\n",
    "            \n",
    "            old_eq_value_x = eq_value_x\n",
    "            \n",
    "            #Finds the non negative solution of the polynomial (x value) for the given 45 line y value\n",
    "            for zero in roots:\n",
    "                zero_str = str(zero)\n",
    "                assertion = not(\"+0j\" in zero_str)\n",
    "                if assertion == True:\n",
    "                    zero = -1\n",
    "                else:\n",
    "                    zero = float(zero_str[1:-4])\n",
    "                if 0<zero<1 == True:\n",
    "                    eq_value_x = zero\n",
    "                    \n",
    "            \n",
    "            #Adds a point to the step y list on the equilibrium line directly across from the 45 (same y)    \n",
    "            if ff_value == xd :\n",
    "                eq_value_y = xd \n",
    "            else:\n",
    "                eq_value_y = z(eq_value_x) \n",
    "            \n",
    "            eq_value_x = old_eq_value_x -((old_eq_value_x - eq_value_x) * Eff)\n",
    "                \n",
    "            #Adds the next 45 line value based on position relative to the stripping and rectifying lines     \n",
    "            if (eq_value_x > rec_q_int) == True:\n",
    "                ff_value = eq_value_x * r_slope + r_int \n",
    "            else:\n",
    "                if (eq_value_x > xb) == True:\n",
    "                    ff_value = (eq_value_x * strip_slope) + strip_int\n",
    "                else:\n",
    "                    ff_value = eq_value_x\n",
    "            step_x_list.append(eq_value_x)\n",
    "            step_y_list.append(eq_value_y)\n",
    "            step_x_list.append(eq_value_x)\n",
    "            step_y_list.append(ff_value) \n",
    "\n",
    "        #Adds operating condition step series to graph\n",
    "        step_line = fig1.add_scatter(name = 'Step',x=step_x_list,y=step_y_list)\n",
    "        \n",
    "        #Calculates N and Nmin values\n",
    "        nmin_value = int((len(step_x_rmin_list) - 1) / 2)\n",
    "        n_value = int((len(step_x_list) - 1) / 2)\n",
    "        \n",
    "        #Calculates R_min\n",
    "        if R_min =='On':\n",
    "            r_x_list = [xb]\n",
    "            r_y_list = [xb]\n",
    "            \n",
    "            if q == 1:\n",
    "                #Catches the case where the q line has an infinite slope\n",
    "                r_y_value = (z(xf))\n",
    "                r_min_final_root = (xf)\n",
    "            else:\n",
    "                #Packages\n",
    "                q_line_poly1d = np.poly1d([m,-q_int])\n",
    "                z_scaled_again = z - q_line_poly1d\n",
    "                roots_of_newz = z_scaled_again.r\n",
    "                for zero in roots_of_newz:\n",
    "                    zero_str = str(zero)\n",
    "                    assertion = not(\"+0j\" in zero_str)\n",
    "                    if assertion == True:\n",
    "                        zero = -1\n",
    "                    else:\n",
    "                        zero = float(zero_str[1:-4])\n",
    "                    if 0<zero<1 == True:\n",
    "                        r_min_final_root = zero \n",
    "                r_y_value = z(r_min_final_root)\n",
    "                \n",
    "            if r_y_value > xd:\n",
    "                r_min_final_root = step_x_list[1]\n",
    "                r_y_value = xd\n",
    "                    \n",
    "            r_y_list.append(r_y_value)\n",
    "            r_x_list.append(r_min_final_root)\n",
    "            r_x_list.append(xd)\n",
    "            r_y_list.append(xd)\n",
    "            pinchpt = fig1.add_scatter(name = 'R_min',x=r_x_list,y=r_y_list)\n",
    "            r_min_slope = (xd - r_y_list[-2])/(xd - r_x_list[-2])\n",
    "            r_min_final_value = r_min_slope/(1-r_min_slope)\n",
    "            print('R_min is: ',r_min_final_value)            \n",
    "            \n",
    "        if TotalReflux == 'On':\n",
    "            #Calculates the step lines at total reflux\n",
    "            while eq_value_x_rmin > xb:        \n",
    "                #Solves for roots of the trendline\n",
    "                z_scaled_rmin = z - ff_value_rmin\n",
    "                (roots_rmin,sc1) = rootfinder(z_scaled_rmin,sc1)\n",
    "\n",
    "                #Asserts that the polynomial trendline can be solved \n",
    "                assert sc1 < 500,\"Error in solving polynomial, these two components may not be suitable for this model or may require a more accurate trendline\"\n",
    "                for zero in roots_rmin:\n",
    "                    zero_str = str(zero)\n",
    "                    assertion = not(\"+0j\" in zero_str)\n",
    "                    if assertion == True:\n",
    "                        zero = -1\n",
    "                    else:\n",
    "                        zero = float(zero_str[1:-4])\n",
    "                    if 0<zero<1 == True:\n",
    "                        eq_value_x_rmin = zero     \n",
    "\n",
    "                #Calculates step point on 45 line\n",
    "                if ff_value_rmin == xd:\n",
    "                    eq_value_y_rmin = xd\n",
    "                else:\n",
    "                    eq_value_y_rmin = z(eq_value_x_rmin)\n",
    "                ff_value_rmin = eq_value_x_rmin\n",
    "\n",
    "\n",
    "                #Builds total reflux step data series\n",
    "                step_x_rmin_list.append(eq_value_x_rmin)\n",
    "                step_y_rmin_list.append(eq_value_y_rmin)\n",
    "                step_x_rmin_list.append(eq_value_x_rmin)\n",
    "                step_y_rmin_list.append(ff_value_rmin)\n",
    "            nmin = fig1.add_scatter(name = 'Total Reflux',x=step_x_rmin_list,y=step_y_rmin_list)\n",
    "            nmin_value = int((len(step_x_rmin_list) - 1) / 2)\n",
    "            fig1.layout.title = \"McCabe Thiele  \"+volatile+\"-\"+less_volatile + \",   P=\" + str(p) + \" bar\" + \"    N=\" + str(n_value) + \"    Nmin=\" + str(nmin_value)\n",
    "        else:\n",
    "            #Creates the title of the graph\n",
    "            fig1.layout.title = \"McCabe Thiele  \"+volatile+\"-\"+less_volatile + \",   P=\" + str(p) + \" bar\" + \"    N=\" + str(n_value)\n",
    "    \n",
    "    return(fig1)\n",
    "\n",
    "final_graph1 = update()"
   ]
  },
  {
   "cell_type": "code",
   "execution_count": 10,
   "metadata": {
    "ExecuteTime": {
     "end_time": "2019-10-29T17:31:13.954662Z",
     "start_time": "2019-10-29T17:31:13.689018Z"
    }
   },
   "outputs": [
    {
     "data": {
      "application/vnd.jupyter.widget-view+json": {
       "model_id": "08d5677335c24ceeb466edb84f8e7d38",
       "version_major": 2,
       "version_minor": 0
      },
      "text/plain": [
       "interactive(children=(BoundedFloatText(value=0.1, description='xb', max=1.0, step=0.01), BoundedFloatText(valu…"
      ]
     },
     "metadata": {},
     "output_type": "display_data"
    }
   ],
   "source": [
    "abcd=interactive(update,species1=antoine_dict.keys(),species2=antoine_dict.keys(),\n",
    "    r=widgets.BoundedFloatText(value=10,min=0.0,max=100.0,step=0.001),\n",
    "    xd=widgets.BoundedFloatText(value=0.9, min=0.0,max=1.0,step=0.01),\n",
    "    xb=widgets.BoundedFloatText(value=0.1, min=0.0,max=1.0,step=0.01),\n",
    "    q=widgets.BoundedFloatText(value=0.7, min=0.0,max=1.0,step=0.01),\n",
    "    xf=widgets.BoundedFloatText(value=0.5,min=0.0,max=1.0,step=0.01),\n",
    "    p=widgets.BoundedFloatText(value=1,min=0.01,max =500.0,step=0.00001),\n",
    "    order=widgets.BoundedFloatText(value=10,min=1,max=30,step=1),TotalReflux=tr_list, R_min=tr_list,\n",
    "    Eff=widgets.BoundedFloatText(value=1,min=0.001,max=1,step=0.001))\n",
    "display(abcd)\n",
    "#final_graph1"
   ]
  },
  {
   "cell_type": "code",
   "execution_count": 11,
   "metadata": {
    "ExecuteTime": {
     "end_time": "2019-10-29T17:31:13.970287Z",
     "start_time": "2019-10-29T17:31:13.954662Z"
    }
   },
   "outputs": [
    {
     "data": {
      "application/vnd.jupyter.widget-view+json": {
       "model_id": "dba483b4542545948165de27e37d1178",
       "version_major": 2,
       "version_minor": 0
      },
      "text/plain": [
       "FigureWidget({\n",
       "    'data': [{'name': '45', 'type': 'scatter', 'uid': '1b95bd95-5427-4183-84f1-72f9c7cd7c02', '…"
      ]
     },
     "metadata": {},
     "output_type": "display_data"
    }
   ],
   "source": [
    "final_graph1"
   ]
  },
  {
   "cell_type": "code",
   "execution_count": null,
   "metadata": {},
   "outputs": [],
   "source": []
  },
  {
   "cell_type": "code",
   "execution_count": null,
   "metadata": {},
   "outputs": [],
   "source": []
  },
  {
   "cell_type": "code",
   "execution_count": null,
   "metadata": {},
   "outputs": [],
   "source": []
  },
  {
   "cell_type": "code",
   "execution_count": null,
   "metadata": {},
   "outputs": [],
   "source": []
  },
  {
   "cell_type": "code",
   "execution_count": null,
   "metadata": {},
   "outputs": [],
   "source": []
  },
  {
   "cell_type": "code",
   "execution_count": null,
   "metadata": {},
   "outputs": [],
   "source": []
  }
 ],
 "metadata": {
  "kernelspec": {
   "display_name": "Python 3",
   "language": "python",
   "name": "python3"
  },
  "language_info": {
   "codemirror_mode": {
    "name": "ipython",
    "version": 3
   },
   "file_extension": ".py",
   "mimetype": "text/x-python",
   "name": "python",
   "nbconvert_exporter": "python",
   "pygments_lexer": "ipython3",
   "version": "3.7.4"
  }
 },
 "nbformat": 4,
 "nbformat_minor": 2
}
